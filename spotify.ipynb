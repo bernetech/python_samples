{
 "cells": [
  {
   "cell_type": "markdown",
   "id": "926f7c41",
   "metadata": {},
   "source": [
    "### Intro\n",
    "\n",
    "Spotify has a very robust REST API available for general use.  There are methods for working with artist and track info, as well as user account info and playlist manipulation.  We'll look at both here, starting with basic artist and track information."
   ]
  },
  {
   "cell_type": "markdown",
   "id": "04b91491",
   "metadata": {},
   "source": [
    "### Getting artist and track data\n",
    "\n",
    "Here we'll do some artist, album, and track retrieval."
   ]
  },
  {
   "cell_type": "markdown",
   "id": "74ae851e",
   "metadata": {},
   "source": [
    "The basics.  CLIENT_ID and CLIENT_SECRET are provided by Spotify after you register your app with them.  Don't share them!"
   ]
  },
  {
   "cell_type": "code",
   "execution_count": 2,
   "id": "57dfdfef",
   "metadata": {},
   "outputs": [],
   "source": [
    "import pandas as pd\n",
    "import json\n",
    "import requests\n",
    "\n",
    "CLIENT_ID = '<redacted>'\n",
    "CLIENT_SECRET = '<redacted>'\n",
    "#REDIRECT_URI = 'http://127.0.0.1:9090'\n",
    "REDIRECT_URI = 'https://open.spotify.com/collection/playlists'"
   ]
  },
  {
   "cell_type": "markdown",
   "id": "59cfb72c",
   "metadata": {},
   "source": [
    "Rerun this cell to generate the new access token after expiry:"
   ]
  },
  {
   "cell_type": "code",
   "execution_count": 3,
   "id": "e1acd3fc",
   "metadata": {},
   "outputs": [],
   "source": [
    "TOKEN_URL = 'https://accounts.spotify.com/api/token'\n",
    "\n",
    "# POST\n",
    "auth_response = requests.post(TOKEN_URL, {\n",
    "    'grant_type': 'client_credentials',\n",
    "    'client_id': CLIENT_ID,\n",
    "    'client_secret': CLIENT_SECRET,\n",
    "})\n",
    "\n",
    "# convert the response to JSON\n",
    "auth_response_data = auth_response.json()\n",
    "\n",
    "# save the access token\n",
    "access_token = auth_response_data['access_token']\n",
    "\n",
    "headers = {'Authorization': 'Bearer {token}'.format(token=access_token)}"
   ]
  },
  {
   "cell_type": "code",
   "execution_count": 4,
   "id": "16f51300",
   "metadata": {},
   "outputs": [
    {
     "data": {
      "text/plain": [
       "{'danceability': 0.484,\n",
       " 'energy': 0.711,\n",
       " 'key': 2,\n",
       " 'loudness': -7.784,\n",
       " 'mode': 1,\n",
       " 'speechiness': 0.0331,\n",
       " 'acousticness': 0.0183,\n",
       " 'instrumentalness': 0.173,\n",
       " 'liveness': 0.0941,\n",
       " 'valence': 0.49,\n",
       " 'tempo': 148.189,\n",
       " 'type': 'audio_features',\n",
       " 'id': '2f0P7iELCvAlV8j6Z3rGDE',\n",
       " 'uri': 'spotify:track:2f0P7iELCvAlV8j6Z3rGDE',\n",
       " 'track_href': 'https://api.spotify.com/v1/tracks/2f0P7iELCvAlV8j6Z3rGDE',\n",
       " 'analysis_url': 'https://api.spotify.com/v1/audio-analysis/2f0P7iELCvAlV8j6Z3rGDE',\n",
       " 'duration_ms': 503067,\n",
       " 'time_signature': 4}"
      ]
     },
     "execution_count": 4,
     "metadata": {},
     "output_type": "execute_result"
    }
   ],
   "source": [
    "# base URL of all Spotify API endpoints\n",
    "BASE_URL = 'https://api.spotify.com/v1/'\n",
    "\n",
    "# Get info for an individual track from its URI\n",
    "# https://open.spotify.com/track/2f0P7iELCvAlV8j6Z3rGDE?si=36cefded2e1e4ae6\n",
    "track_id = '2f0P7iELCvAlV8j6Z3rGDE'  # Stranglehold by Ted Nugent\n",
    "\n",
    "# actual GET request with proper header\n",
    "r = requests.get(BASE_URL + 'audio-features/' + track_id, headers=headers).json()\n",
    "\n",
    "r"
   ]
  },
  {
   "cell_type": "markdown",
   "id": "e4bcf717",
   "metadata": {},
   "source": [
    "Get all albums by, e.g., AC/DC, again from the URI:"
   ]
  },
  {
   "cell_type": "code",
   "execution_count": 5,
   "id": "516210aa",
   "metadata": {},
   "outputs": [],
   "source": [
    "## https://open.spotify.com/artist/711MCceyCBcFnzjGY4Q7Un?si=OAicjoOQSjCf9wsq7v31Sw\n",
    "artist_id = '711MCceyCBcFnzjGY4Q7Un'\n",
    "\n",
    "# pull all artists albums\n",
    "r = requests.get(BASE_URL + 'artists/' + artist_id + '/albums', \n",
    "                 headers=headers, \n",
    "                 params={'include_groups': 'album', 'limit': 50})\n",
    "d = r.json()"
   ]
  },
  {
   "cell_type": "code",
   "execution_count": 6,
   "id": "e15ef931",
   "metadata": {},
   "outputs": [
    {
     "name": "stdout",
     "output_type": "stream",
     "text": [
      "POWER UP \t\t 2020-11-13\n",
      "Rock or Bust \t\t 2014-11-28\n",
      "Live at River Plate \t\t 2012-11-19\n",
      "Black Ice \t\t 2008-10-20\n",
      "Stiff Upper Lip \t\t 2000-02-25\n",
      "Ballbreaker \t\t 1995-09-22\n",
      "Live \t\t 1992-10-27\n",
      "Live (Collector's Edition) \t\t 1992-10-27\n",
      "The Razors Edge \t\t 1990-09-24\n",
      "Blow Up Your Video \t\t 1988-02-01\n",
      "Who Made Who \t\t 1986-05-24\n",
      "Fly On the Wall \t\t 1985-06-28\n",
      "Flick of the Switch \t\t 1983-08-15\n",
      "For Those About to Rock (We Salute You) \t\t 1981-11-23\n",
      "Back In Black \t\t 1980-07-25\n",
      "Highway to Hell \t\t 1979-07-27\n",
      "If You Want Blood You've Got It (Live) \t\t 1978-10-13\n",
      "Powerage \t\t 1978-05-05\n",
      "Let There Be Rock \t\t 1977-03-21\n",
      "Dirty Deeds Done Dirt Cheap \t\t 1976-09-20\n",
      "High Voltage \t\t 1976-05-14\n"
     ]
    }
   ],
   "source": [
    "for album in d['items']:\n",
    "    print(album['name'], '\\t\\t', album['release_date'])"
   ]
  },
  {
   "cell_type": "code",
   "execution_count": 7,
   "id": "5c8cb6fe",
   "metadata": {},
   "outputs": [
    {
     "name": "stdout",
     "output_type": "stream",
     "text": [
      "POWER UP\n",
      "Rock or Bust\n",
      "Black Ice\n",
      "Stiff Upper Lip\n",
      "Ballbreaker\n",
      "The Razors Edge\n",
      "Blow Up Your Video\n",
      "Fly On the Wall\n",
      "Flick of the Switch\n",
      "For Those About to Rock (We Salute You)\n",
      "Back In Black\n",
      "Highway to Hell\n",
      "Powerage\n",
      "Let There Be Rock\n",
      "Dirty Deeds Done Dirt Cheap\n",
      "High Voltage\n"
     ]
    }
   ],
   "source": [
    "data = []   # will hold all track info\n",
    "albums = [] # to keep track of duplicates\n",
    "\n",
    "# loop over albums and get all tracks\n",
    "for album in d['items']:\n",
    "    album_name = album['name']\n",
    "\n",
    "    ## we don't care about who made who b/c it's really a compilation, but isn't flagged as such\n",
    "    if not 'live' in album_name.lower() and not 'who made who' in album_name.lower():\n",
    "        \n",
    "        # here's a hacky way to skip over albums we've already grabbed\n",
    "        trim_name = album_name.split('(')[0].strip()\n",
    "        if trim_name.upper() in albums: #or int(album['release_date'][:4]) > 1983: ## stop at '83\n",
    "            continue\n",
    "        albums.append(trim_name.upper()) # use upper() to standardize\n",
    "    \n",
    "        # this takes a few seconds so let's keep track of progress    \n",
    "        print(album_name)\n",
    "    \n",
    "        # pull all tracks from this album\n",
    "        r = requests.get(BASE_URL + 'albums/' + album['id'] + '/tracks', \n",
    "            headers=headers)\n",
    "        tracks = r.json()['items']\n",
    "    \n",
    "        for track in tracks:\n",
    "            # get audio features (key, liveness, danceability, ...)\n",
    "            f = requests.get(BASE_URL + 'audio-features/' + track['id'], \n",
    "                headers=headers)\n",
    "            f = f.json()\n",
    "        \n",
    "            # combine with album info\n",
    "            f.update({\n",
    "                'track_name': track['name'],\n",
    "                'album_name': album_name,\n",
    "                'short_album_name': trim_name,\n",
    "                'release_date': album['release_date'],\n",
    "                'album_id': album['id']\n",
    "            })\n",
    "        \n",
    "        data.append(f)"
   ]
  },
  {
   "cell_type": "code",
   "execution_count": 8,
   "id": "d149d0d0",
   "metadata": {},
   "outputs": [
    {
     "data": {
      "text/html": [
       "<div>\n",
       "<style scoped>\n",
       "    .dataframe tbody tr th:only-of-type {\n",
       "        vertical-align: middle;\n",
       "    }\n",
       "\n",
       "    .dataframe tbody tr th {\n",
       "        vertical-align: top;\n",
       "    }\n",
       "\n",
       "    .dataframe thead th {\n",
       "        text-align: right;\n",
       "    }\n",
       "</style>\n",
       "<table border=\"1\" class=\"dataframe\">\n",
       "  <thead>\n",
       "    <tr style=\"text-align: right;\">\n",
       "      <th></th>\n",
       "      <th>short_album_name</th>\n",
       "      <th>release_date</th>\n",
       "      <th>danceability</th>\n",
       "      <th>energy</th>\n",
       "      <th>loudness</th>\n",
       "      <th>speechiness</th>\n",
       "      <th>acousticness</th>\n",
       "      <th>instrumentalness</th>\n",
       "      <th>liveness</th>\n",
       "      <th>valence</th>\n",
       "    </tr>\n",
       "  </thead>\n",
       "  <tbody>\n",
       "    <tr>\n",
       "      <th>15</th>\n",
       "      <td>High Voltage</td>\n",
       "      <td>1976-05-14</td>\n",
       "      <td>0.561</td>\n",
       "      <td>0.785</td>\n",
       "      <td>-4.973</td>\n",
       "      <td>0.0629</td>\n",
       "      <td>0.028200</td>\n",
       "      <td>0.4510</td>\n",
       "      <td>0.0615</td>\n",
       "      <td>0.546</td>\n",
       "    </tr>\n",
       "    <tr>\n",
       "      <th>14</th>\n",
       "      <td>Dirty Deeds Done Dirt Cheap</td>\n",
       "      <td>1976-09-20</td>\n",
       "      <td>0.475</td>\n",
       "      <td>0.607</td>\n",
       "      <td>-6.528</td>\n",
       "      <td>0.0929</td>\n",
       "      <td>0.075500</td>\n",
       "      <td>0.0802</td>\n",
       "      <td>0.1690</td>\n",
       "      <td>0.668</td>\n",
       "    </tr>\n",
       "    <tr>\n",
       "      <th>13</th>\n",
       "      <td>Let There Be Rock</td>\n",
       "      <td>1977-03-21</td>\n",
       "      <td>0.292</td>\n",
       "      <td>0.838</td>\n",
       "      <td>-4.459</td>\n",
       "      <td>0.0780</td>\n",
       "      <td>0.001400</td>\n",
       "      <td>0.4790</td>\n",
       "      <td>0.0953</td>\n",
       "      <td>0.423</td>\n",
       "    </tr>\n",
       "    <tr>\n",
       "      <th>12</th>\n",
       "      <td>Powerage</td>\n",
       "      <td>1978-05-05</td>\n",
       "      <td>0.266</td>\n",
       "      <td>0.817</td>\n",
       "      <td>-4.711</td>\n",
       "      <td>0.0779</td>\n",
       "      <td>0.000781</td>\n",
       "      <td>0.0795</td>\n",
       "      <td>0.0759</td>\n",
       "      <td>0.311</td>\n",
       "    </tr>\n",
       "    <tr>\n",
       "      <th>11</th>\n",
       "      <td>Highway to Hell</td>\n",
       "      <td>1979-07-27</td>\n",
       "      <td>0.251</td>\n",
       "      <td>0.730</td>\n",
       "      <td>-5.002</td>\n",
       "      <td>0.0615</td>\n",
       "      <td>0.024000</td>\n",
       "      <td>0.0137</td>\n",
       "      <td>0.1810</td>\n",
       "      <td>0.482</td>\n",
       "    </tr>\n",
       "  </tbody>\n",
       "</table>\n",
       "</div>"
      ],
      "text/plain": [
       "               short_album_name release_date  danceability  energy  loudness  \\\n",
       "15                 High Voltage   1976-05-14         0.561   0.785    -4.973   \n",
       "14  Dirty Deeds Done Dirt Cheap   1976-09-20         0.475   0.607    -6.528   \n",
       "13            Let There Be Rock   1977-03-21         0.292   0.838    -4.459   \n",
       "12                     Powerage   1978-05-05         0.266   0.817    -4.711   \n",
       "11              Highway to Hell   1979-07-27         0.251   0.730    -5.002   \n",
       "\n",
       "    speechiness  acousticness  instrumentalness  liveness  valence  \n",
       "15       0.0629      0.028200            0.4510    0.0615    0.546  \n",
       "14       0.0929      0.075500            0.0802    0.1690    0.668  \n",
       "13       0.0780      0.001400            0.4790    0.0953    0.423  \n",
       "12       0.0779      0.000781            0.0795    0.0759    0.311  \n",
       "11       0.0615      0.024000            0.0137    0.1810    0.482  "
      ]
     },
     "execution_count": 8,
     "metadata": {},
     "output_type": "execute_result"
    }
   ],
   "source": [
    "## put all albums into a pandas dataframe\n",
    "df = pd.DataFrame(data) #, index=df['track_name']) -- setting this breaks t-snes below\n",
    "cols = ['short_album_name', 'release_date', 'danceability', 'energy', 'loudness',\n",
    "        'speechiness', 'acousticness', 'instrumentalness', 'liveness', 'valence']\n",
    "\n",
    "# convert release_date to an actual date, and sort by it\n",
    "df['release_date'] = pd.to_datetime(df['release_date'])\n",
    "df = df.sort_values(by='release_date') #, ascending=False)\n",
    "\n",
    "df[cols].head()"
   ]
  },
  {
   "cell_type": "markdown",
   "id": "e16942f7",
   "metadata": {},
   "source": [
    "### Spotipy\n",
    "\n",
    "The freely available Spotipy library is very powerful.  We'll look at a few uses here, including using OAuth to authenticate in order to access specific user info.  OAuth requires a separate endpoint to be configured in order to allow user access, which isn't shown here."
   ]
  },
  {
   "cell_type": "markdown",
   "id": "079a8f0e",
   "metadata": {},
   "source": [
    "Get a list of all albums by the band Tool:"
   ]
  },
  {
   "cell_type": "code",
   "execution_count": 10,
   "id": "634f2fcc",
   "metadata": {
    "scrolled": true
   },
   "outputs": [
    {
     "name": "stdout",
     "output_type": "stream",
     "text": [
      "Fear Inoculum -- 2019-08-30\n",
      "10,000 Days -- 2006-04-28\n",
      "Lateralus -- 2001-05-15\n",
      "Ænima -- 1996-09-17\n",
      "Undertow -- 1993-04-06\n",
      "Opiate² -- 2022-03-01\n",
      "Opiate -- 1992-03-10\n"
     ]
    }
   ],
   "source": [
    "import spotipy\n",
    "from spotipy.oauth2 import SpotifyClientCredentials\n",
    "\n",
    "res = {}\n",
    "\n",
    "tool_uri = 'spotify:artist:2yEwvVSSSUkcLeSTNyHKh8'\n",
    "spotify = spotipy.Spotify(client_credentials_manager=SpotifyClientCredentials(client_id=CLIENT_ID,\n",
    "                          client_secret=CLIENT_SECRET))\n",
    "\n",
    "results = spotify.artist_albums(tool_uri) #, album_type='album')\n",
    "\n",
    "albums = results['items']\n",
    "\n",
    "while results['next']:\n",
    "    print(results['next'])\n",
    "    results = spotify.next(results)\n",
    "    albums.extend(results['items'])\n",
    "\n",
    "for album in albums:\n",
    "    print(album['name'], '--', album['release_date'])\n",
    "    res[album['name']] = album['release_date']"
   ]
  },
  {
   "cell_type": "markdown",
   "id": "6a9edcf3",
   "metadata": {},
   "source": [
    "This is where the OAuth occurs, but, as mentioned above it takes some tweaking due to Spotify redirecting the user to a webpage to allow access:"
   ]
  },
  {
   "cell_type": "code",
   "execution_count": 12,
   "id": "8e017a2e",
   "metadata": {
    "scrolled": false
   },
   "outputs": [],
   "source": [
    "from spotipy.oauth2 import SpotifyOAuth\n",
    "from spotipy.oauth2 import CacheFileHandler\n",
    "\n",
    "scope = 'user-library-read, user-read-recently-played, playlist-read-collaborative, \\\n",
    "         user-read-playback-state, user-top-read, user-library-read, playlist-read-private'\n",
    "\n",
    "## currently writing .tokens in ~/jupyter/.cache-<username>.  setting cache_path causes\n",
    "## unable to read/write errors\n",
    "#handler = CacheFileHandler(cache_path='/tmp/', username='tattri')\n",
    "handler = CacheFileHandler(username='tattri')\n",
    "\n",
    "sp = spotipy.Spotify(auth_manager=SpotifyOAuth(scope=scope, client_id=CLIENT_ID, \n",
    "                     client_secret=CLIENT_SECRET, redirect_uri=REDIRECT_URI,\n",
    "                     cache_handler=handler))"
   ]
  },
  {
   "cell_type": "markdown",
   "id": "99413f78",
   "metadata": {},
   "source": [
    "After we've authenticated, get the currently playing track, if applicable.  If there is no song currently playing, return the last song played:"
   ]
  },
  {
   "cell_type": "code",
   "execution_count": 14,
   "id": "acd6adaa",
   "metadata": {
    "scrolled": false
   },
   "outputs": [
    {
     "name": "stdout",
     "output_type": "stream",
     "text": [
      "No song currently playing, the last song played is:  Lucky You (feat. Joyner Lucas) by Eminem, Joyner Lucas from the album Curtain Call 2 --- popularity 62, played at 2022-09-11T14:20:21.007Z\n"
     ]
    }
   ],
   "source": [
    "artists = []\n",
    "track, results = {}, {}\n",
    "pop = 0\n",
    "\n",
    "results = sp.current_user_playing_track()\n",
    "\n",
    "if results != None:\n",
    "    print('Now playing:  ', end='')\n",
    "    \n",
    "    ## in case there is more than one artist on a track\n",
    "    for i in range(len(results['item']['artists'])):\n",
    "        artists.append(dict(results['item']['artists'][i])['name'])\n",
    "\n",
    "    trackName = results['item']['name']\n",
    "    album = results['item']['album']['name']\n",
    "    pop = results['item']['popularity']\n",
    "\n",
    "    print(trackName, 'by', str.join(', ', artists), 'from the album', album, '-- popularity',pop)\n",
    "\n",
    "else:\n",
    "    print('No song currently playing, the last song played is:  ', end='')\n",
    "    results = sp.current_user_recently_played(limit=1)\n",
    "    \n",
    "    track = dict(results['items'][0])\n",
    "    for i in range(len(track['track']['artists'])):\n",
    "        artists.append(dict(track['track']['artists'][i])['name'])\n",
    "\n",
    "    trackName = track['track']['name']\n",
    "    album = track['track']['album']['name']\n",
    "    pop = track['track']['popularity']\n",
    "\n",
    "    print(trackName, ' by ', str.join(', ', artists), ' from the album ', \n",
    "          album, ' --- popularity ', pop, ', played at ', track['played_at'], sep='')\n"
   ]
  }
 ],
 "metadata": {
  "kernelspec": {
   "display_name": "Python 3 (ipykernel)",
   "language": "python",
   "name": "python3"
  },
  "language_info": {
   "codemirror_mode": {
    "name": "ipython",
    "version": 3
   },
   "file_extension": ".py",
   "mimetype": "text/x-python",
   "name": "python",
   "nbconvert_exporter": "python",
   "pygments_lexer": "ipython3",
   "version": "3.8.12"
  }
 },
 "nbformat": 4,
 "nbformat_minor": 5
}
