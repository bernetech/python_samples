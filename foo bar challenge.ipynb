{
 "cells": [
  {
   "cell_type": "markdown",
   "id": "f527df3c",
   "metadata": {},
   "source": [
    "### Google coding challenge problems and solutions"
   ]
  },
  {
   "cell_type": "markdown",
   "id": "d3a0e5ac",
   "metadata": {},
   "source": [
    "Google has had a semi-secret coding challenge called \"foobar\" for the past several years; you can fall into it by doing Google searches for programming-related queries, or you can get an invite code from someone who has taken part and passed certain milestones, specifically levels two and four of five.  At one point it was used as a screening tool for employment at Google; my understanding is that this is no longer (or rarely) the case, but you still have the option of submitting your information to a recruiter once you pass level three.  I got an invite code and took part; below are the problems I was given and my solutions.\n",
    "\n",
    "Note that there is also a silly storyline involving an evil commander, minions, bunnies, and a space station wrapped around the problems--I have deleted most of that and just included enough to describe the problems, so don't worry if you feel like you're missing context."
   ]
  },
  {
   "cell_type": "code",
   "execution_count": 1,
   "id": "b7c9b7da",
   "metadata": {},
   "outputs": [
    {
     "name": "stdout",
     "output_type": "stream",
     "text": [
      "2.7.18 (default, Jan  9 2022, 04:52:48) \n",
      "[GCC 4.2.1 Compatible Apple LLVM 11.0.3 (clang-1103.0.32.62)]\n"
     ]
    }
   ],
   "source": [
    "import sys\n",
    "\n",
    "## foobar runs in a python 2.7 sandbox, but i much prefer the print string formatting in 3.x\n",
    "from __future__ import print_function\n",
    "\n",
    "print(sys.version)"
   ]
  },
  {
   "cell_type": "markdown",
   "id": "b4386f18",
   "metadata": {},
   "source": [
    "### Level 1\n",
    "\n",
    "In [the secret] code, every lowercase letter [a..z] is replaced with the corresponding one in [z..a], while every other character (including uppercase letters and punctuation) is left untouched. That is, ‘a’ becomes ‘z’, ‘b’ becomes ‘y’, ‘c’ becomes ‘x’, etc. For instance, the word “”vmxibkgrlm””, when decoded, would become “”encryption””.\n",
    "\n",
    "Write a function called solution(s) which takes in a string and returns the deciphered string so you can show the commander proof that these minions are talking about “”Lance & Janice”” instead of doing their jobs."
   ]
  },
  {
   "cell_type": "code",
   "execution_count": 2,
   "id": "eb9eb29c",
   "metadata": {},
   "outputs": [
    {
     "name": "stdout",
     "output_type": "stream",
     "text": [
      "Yeah! I can’t believe Lance lost his job at the colony!!\n"
     ]
    }
   ],
   "source": [
    "import string\n",
    "\n",
    "def solution(s):\n",
    "    crypt, decrypt, result = ([] for i in range(3))\n",
    "    az_lower = string.ascii_lowercase\n",
    " \n",
    "    for i in az_lower:\n",
    "        decrypt.append(i)\n",
    "        crypt[:0] = i\n",
    "\n",
    "    d = {}\n",
    "    \n",
    "    loc = 0\n",
    "    for i in crypt:\n",
    "        d[i] = decrypt[loc]\n",
    "        loc += 1\n",
    "    #ziplist = list(zip(crypt, decrypt))\n",
    "    \n",
    "    for i in s:\n",
    "        if (i in crypt):\n",
    "            result.append(d[i])\n",
    "        else:\n",
    "            result.append(i)\n",
    "        \n",
    "    return(''.join(result))\n",
    "    \n",
    "#answer = solution('vmxibkgrlm')\n",
    "#answer = solution('wrw blf hvv ozhg mrtsg’h vkrhlwv?')\n",
    "answer = solution('Yvzs! I xzm’g yvorvev Lzmxv olhg srh qly zg gsv xlolmb!!')\n",
    "\n",
    "print(answer)"
   ]
  },
  {
   "cell_type": "markdown",
   "id": "851a08bc",
   "metadata": {},
   "source": [
    "### Level 2 (1/2)\n",
    "\n",
    "Flux chains require perfect binary trees, so Lambda's design arranged the ion flux converters to form one. To label them, Lambda performed a post-order traversal of the tree of converters and labeled each converter with the order of that converter in the traversal, starting at 1. For example, a tree of 7 converters would look like the following:\n",
    "\n",
    "`\n",
    "   7\n",
    " 3   6\n",
    "1 2 4 5\n",
    "`\n",
    "\n",
    "Write a function solution(h, q) - where h is the height of the perfect tree of converters and q is a list of positive integers representing different flux converters - which returns a list of integers p where each element in p is the label of the converter that sits on top of the respective converter in q, or -1 if there is no such converter.  For example, solution(3, [1, 4, 7]) would return the converters above the converters at indexes 1, 4, and 7 in a perfect binary tree of height 3, which is [3, 6, -1].\n",
    "\n",
    "The domain of the integer h is 1 <= h <= 30, where h = 1 represents a perfect binary tree containing only the root, h = 2 represents a perfect binary tree with the root and two leaf nodes, h = 3 represents a perfect binary tree with the root, two internal nodes and four leaf nodes (like the example above), and so forth.  The lists q and p contain at least one but no more than 10000 distinct integers, all of which will be between 1 and 2^h-1, inclusive.\n",
    "\n",
    "#### Test cases\n",
    "\n",
    "Your code should pass the following test cases.\n",
    "Note that it may also be run against hidden test cases not shown here.\n",
    "\n",
    "-- Python cases --\n",
    "\n",
    "Input: `solution.solution(3, [7, 3, 5, 1])`\n",
    "\n",
    "Output: ` -1,7,6,3`\n",
    "\n",
    "Input: `solution.solution(5, [19, 14, 28])`\n",
    "\n",
    "Output: `21,15,29`\n"
   ]
  },
  {
   "cell_type": "code",
   "execution_count": 3,
   "id": "c18b81f8",
   "metadata": {},
   "outputs": [
    {
     "name": "stdout",
     "output_type": "stream",
     "text": [
      "answer =  [-1, 7, 6, 7, 3]\n"
     ]
    }
   ],
   "source": [
    "def findNode(i, end):\n",
    "    ## had to create a separate sub to break out of the while loop w/ a return\n",
    "    start = 1\n",
    "    \n",
    "    while(i >= 1):\n",
    "        end = end - 1\n",
    " \n",
    "        ## binary tree has two halves, so find the middle to decide which way to go\n",
    "        mid = start + (end - start)//2\n",
    " \n",
    "        ## return the parent once we find the node\n",
    "        if(mid == i or end == i):\n",
    "            ## we've found the node, so return the parent\n",
    "            return(end + 1)       \n",
    "        elif (i < mid):\n",
    "            ## if we're less than the middle, search to the left\n",
    "            end = mid\n",
    "        else:\n",
    "            ## if we're greater than the middle, search to the right\n",
    "            start = mid\n",
    "    \n",
    "def solution(h, q):\n",
    "    result = []\n",
    "    maxNode = (2**h)-1\n",
    "        \n",
    "    for i in q:\n",
    "        if i == maxNode:\n",
    "            result.append(-1)\n",
    "        else:    \n",
    "            result.append(findNode(i, maxNode))\n",
    "\n",
    "    return result\n",
    "    \n",
    "answer = solution(3, [7, 3, 5, 6, 1])\n",
    "print('answer = ', answer)"
   ]
  },
  {
   "cell_type": "markdown",
   "id": "162b7e64",
   "metadata": {},
   "source": [
    "### Level 2 (2/2)\n",
    "\n",
    "Write a program that counts how many salutes are exchanged during a typical walk along a hallway. The hall is represented by a string. For example:\n",
    "\"--->-><-><-->-\"\n",
    "\n",
    "Each hallway string will contain three different types of characters: '>', an employee walking \n",
    "to the right; '<', an employee walking to the left; and '-', an empty space. Every employee walks at the same speed either to right or to the left, according to their direction. Whenever \n",
    "two employees cross, each of them salutes the other. They then continue walking until they reach the end, finally leaving the hallway. In the above example, they salute 10 times.\n",
    "\n",
    "Write a function solution(s) which takes a string representing employees walking along a hallway and returns the number of times the employees will salute. s will contain at least 1 and at most 100 characters, each one of -, >, or <.\n",
    "\n",
    "#### Test cases:\n",
    "\n",
    "Your code should pass the following test cases.\n",
    "Note that it may also be run against hidden test cases not shown here.\n",
    "\n",
    "-- Python cases --\n",
    "\n",
    "Input: `solution.solution(\">----<\")`\n",
    "\n",
    "Output: `2`\n",
    "\n",
    "\n",
    "Input: `solution.solution(\"<<>><\")`\n",
    "\n",
    "Output: `4`"
   ]
  },
  {
   "cell_type": "code",
   "execution_count": 4,
   "id": "921e8a81",
   "metadata": {},
   "outputs": [
    {
     "name": "stdout",
     "output_type": "stream",
     "text": [
      "4\n"
     ]
    }
   ],
   "source": [
    "def solution(s):\n",
    "    salute = 0\n",
    "    \n",
    "    length = len(s)\n",
    "    \n",
    "    left = [i for i, k in enumerate(s) if k == '>']\n",
    "    right = [i for i, k in enumerate(s) if k == '<']\n",
    "\n",
    "    for i in left:\n",
    "        for j in right:\n",
    "            if (i < j):\n",
    "                salute +=2\n",
    "    return salute\n",
    "\n",
    "#answer = solution(\">----<\")\n",
    "answer = solution(\"<<>><\")\n",
    "print(answer)"
   ]
  },
  {
   "cell_type": "markdown",
   "id": "3f067ba8",
   "metadata": {},
   "source": [
    "Refer a friend: \"https://foobar.withgoogle.com/?eid=gfAGt\" (Unused)"
   ]
  },
  {
   "cell_type": "markdown",
   "id": "6c226ddd",
   "metadata": {},
   "source": [
    "### Level 3 (1/3)\n",
    "\n",
    "You have maps of parts of the space station, each starting at a work area exit and ending at the door to an escape pod. The map is represented as a matrix of 0s and 1s, where 0s are passable space and 1s are impassable walls. The door out of the station is at the top left (0,0) and the door into an escape pod is at the bottom right (w-1,h-1). \n",
    "\n",
    "Write a function solution(map) that generates the length of the shortest path from the station door to the escape pod, where you are allowed to remove one wall as part of your remodeling plans. The path length is the total number of nodes you pass through, counting both the entrance and exit nodes. The starting and ending positions are always passable (0). The map will always be solvable, though you may or may not need to remove a wall. The height and width of the map can be from 2 to 20. Moves can only be made in cardinal directions; no diagonal moves are allowed.\n",
    "\n",
    "#### Test cases\n",
    "\n",
    "Your code should pass the following test cases.\n",
    "Note that it may also be run against hidden test cases not shown here.\n",
    "\n",
    "-- Python cases --\n",
    "\n",
    "Input: `solution.solution([[0, 1, 1, 0], [0, 0, 0, 1], [1, 1, 0, 0], [1, 1, 1, 0]])`\n",
    "\n",
    "Output: `7`\n",
    "\n",
    "Input: `solution.solution([[0, 0, 0, 0, 0, 0], [1, 1, 1, 1, 1, 0], [0, 0, 0, 0, 0, 0], [0, 1, 1, 1, 1, 1], [0, 1, 1, 1, 1, 1], [0, 0, 0, 0, 0, 0]])`\n",
    "\n",
    "Output: `11`"
   ]
  },
  {
   "cell_type": "code",
   "execution_count": 5,
   "id": "b37130c9",
   "metadata": {},
   "outputs": [
    {
     "name": "stdout",
     "output_type": "stream",
     "text": [
      "7\n",
      "11\n"
     ]
    }
   ],
   "source": [
    "import numpy as np\n",
    " \n",
    "## direction vectors -- rows can go left/right, columns go up/down\n",
    "dir_Row = [-1, 0, 1, 0]\n",
    "dir_Col = [0, 1, 0, -1]\n",
    " \n",
    "## use this for storing coordinates and how many collisions we have left (k will always\n",
    "## be 1 in this case)\n",
    "class pointLoc:\n",
    "    def __init__(self,x, y, k):\n",
    "        self.x = x\n",
    "        self.y = y\n",
    "        self.k = k\n",
    "\n",
    "# Function to perform BFS\n",
    "def BFS(matrix, k, source, destination):\n",
    "    ## size of input matrix\n",
    "    ROW = len(matrix)\n",
    "    COL = len(matrix[0])\n",
    "\n",
    "    ## pointLoc of each cell\n",
    "    q = []\n",
    " \n",
    "    # Vector array to store distance of\n",
    "    # each cell from source cell\n",
    "    ##\n",
    "    ## requirement is to include source as a step, so start at 1\n",
    "    distance = [1 for i in range(ROW)]\n",
    "    for i in range(len(distance)):\n",
    "        distance[i] = [1 for j in range(COL)]\n",
    " \n",
    "    # Vector array to store count of\n",
    "    # available obstacle eliminations\n",
    "    obstacles = [0 for i in range(ROW)]\n",
    "    for i in range(len(obstacles)):\n",
    "        obstacles[i] = [-1 for j in range(COL)]\n",
    " \n",
    "    # Push the source cell into queue\n",
    "    # and use as starting point\n",
    "    q.append(pointLoc(source[0], source[1], k))\n",
    " \n",
    "    # Iterate while queue is not empty\n",
    "    while (len(q) > 0):\n",
    " \n",
    "        te = q[0]\n",
    "        x = te.x\n",
    "        y = te.y\n",
    "        tk = te.k\n",
    " \n",
    "        # If current cell is same as\n",
    "        # destination then return distance\n",
    "        if (x == destination[0] and y == destination[1]):\n",
    "            return distance[x][y]\n",
    " \n",
    "        q = q[1:]\n",
    " \n",
    "        # If current cell is an obstacle\n",
    "        # then decrement current value\n",
    "        # if possible else skip the cell\n",
    "        if (matrix[x][y] == 1):\n",
    " \n",
    "            if (tk >= 0):\n",
    "                tk -= 1\n",
    "            else:\n",
    "                continue\n",
    " \n",
    "        # Cell is skipped only if current\n",
    "        # value is less than previous\n",
    "        # value of cell\n",
    "        if (obstacles[x][y] >= tk):\n",
    "            continue\n",
    " \n",
    "        # Else update value\n",
    "        obstacles[x][y] = tk\n",
    " \n",
    "        # Push all valid adjacent\n",
    "        # cells into queue\n",
    "        for i in range(4):\n",
    " \n",
    "            ax = x + dir_Row[i]\n",
    "            ay = y + dir_Col[i]\n",
    " \n",
    "            if (ax < 0 or ay < 0 or ax >= ROW or ay >= COL):\n",
    "                continue\n",
    " \n",
    "            q.append(pointLoc(ax, ay, tk))\n",
    " \n",
    "            # Update distance of current\n",
    "            # cell from source cell\n",
    "            distance[ax][ay] = distance[x][y] + 1\n",
    " \n",
    "    # If not possible to reach\n",
    "    # destination from source\n",
    "    return -1\n",
    " \n",
    "def solution(m):\n",
    "    row = len(m)\n",
    "    col = len(m[0])\n",
    "    matrix = np.array(m).reshape(len(m),len(m[0]))\n",
    "    k = 1\n",
    "    src = [0, 0]\n",
    "    dest = [row - 1, col -1]\n",
    "    \n",
    "    return BFS(matrix, k, src, dest)\n",
    "\n",
    "answer = solution([[0, 1, 1, 0], [0, 0, 0, 1], [1, 1, 0, 0], [1, 1, 1, 0]])\n",
    "print(answer)  #7\n",
    "answer = solution([[0, 0, 0, 0, 0, 0], [1, 1, 1, 1, 1, 0], [0, 0, 0, 0, 0, 0], [0, 1, 1, 1, 1, 1], [0, 1, 1, 1, 1, 1], [0, 0, 0, 0, 0, 0]])\n",
    "print(answer)  #11"
   ]
  },
  {
   "cell_type": "markdown",
   "id": "3a3bea9e",
   "metadata": {},
   "source": [
    "### Level 3 (2/3)\n",
    "\n",
    "The fuel control mechanisms have three operations: \n",
    "\n",
    "1. Add one fuel pellet\n",
    "2. Remove one fuel pellet\n",
    "3. Divide the entire group of fuel pellets by 2 (due to the destructive energy released when a quantum antimatter pellet is cut in half, the safety controls will only allow this to happen if there is an even number of pellets)\n",
    "\n",
    "Write a function called solution(n) which takes a positive integer as a string and returns the minimum number of operations needed to transform the number of pellets to 1. The fuel intake control panel can only display a number up to 309 digits long, so there won't ever be more pellets than you can express in that many digits.\n",
    "\n",
    "For example:\n",
    "\n",
    "solution(4) returns 2: 4 -> 2 -> 1\n",
    "\n",
    "solution(15) returns 5: 15 -> 16 -> 8 -> 4 -> 2 -> 1\n",
    "\n",
    "#### Test cases\n",
    "\n",
    "Your code should pass the following test cases.\n",
    "Note that it may also be run against hidden test cases not shown here.\n",
    "\n",
    "-- Python cases --\n",
    "\n",
    "Input: `solution.solution('15')`\n",
    "\n",
    "Output: `5`\n",
    "\n",
    "Input:  `solution.solution('4')`\n",
    "\n",
    "Output: `2`"
   ]
  },
  {
   "cell_type": "markdown",
   "id": "59f47724",
   "metadata": {},
   "source": [
    "***Testing on foobar is a black box and no output statements are allowed.  For some unknown reason this recursive method fails 5/10 tests, even though it should work:***"
   ]
  },
  {
   "cell_type": "code",
   "execution_count": 6,
   "id": "b1adaa9d",
   "metadata": {},
   "outputs": [
    {
     "name": "stdout",
     "output_type": "stream",
     "text": [
      "5\n",
      "2\n"
     ]
    }
   ],
   "source": [
    "def solution(n):\n",
    "    n = int(n)\n",
    "    count = 0\n",
    "    \n",
    "    if (n == 1):\n",
    "        return 0\n",
    "    elif (n % 2) == 0:\n",
    "        return 1 + solution(n/2)\n",
    "    else:\n",
    "        return 1 + min(solution(n-1), solution(n+1))\n",
    "\n",
    "answer = solution('15')\n",
    "print(answer)\n",
    "answer = solution('4')\n",
    "print(answer)"
   ]
  },
  {
   "cell_type": "markdown",
   "id": "9e339420",
   "metadata": {},
   "source": [
    "***This more clever (and more computationally efficient) method that relies on modulo 4 does work:***"
   ]
  },
  {
   "cell_type": "code",
   "execution_count": 7,
   "id": "6ff8d3d4",
   "metadata": {},
   "outputs": [
    {
     "name": "stdout",
     "output_type": "stream",
     "text": [
      "5\n",
      "2\n"
     ]
    }
   ],
   "source": [
    "def solution(n):\n",
    "    n = int(n)\n",
    "    \n",
    "    count = 0\n",
    "    while (n > 1):\n",
    "        count += 1\n",
    " \n",
    "        # num even, divide by 2\n",
    "        if (n % 2 == 0):\n",
    "            n //= 2\n",
    " \n",
    "        # num odd, n%4 == 1\n",
    "        # or n==3(special edge case),\n",
    "        # decrement by 1\n",
    "        elif (n % 4 == 1 or n == 3):\n",
    "            n -= 1\n",
    " \n",
    "        # num odd, n%4 == 3, increment by 1\n",
    "        else:\n",
    "            n += 1\n",
    " \n",
    "    return count\n",
    "\n",
    "answer = solution('15')\n",
    "print(answer)\n",
    "answer = solution('4')\n",
    "print(answer)"
   ]
  },
  {
   "cell_type": "markdown",
   "id": "c558c0e1",
   "metadata": {},
   "source": [
    "### Level 3 (3/3)\n",
    "\n",
    "[T]he only door leading to the LAMBCHOP chamber is secured with a unique lock system whose number of passcodes changes daily. Commander Lambda gets a report every day that includes the locks' access codes, but only the Commander knows how to figure out which of several lists contains the access codes. You need to find a way to determine which list contains the access codes once you're ready to go in. \n",
    "\n",
    "Fortunately, now that you're Commander Lambda's personal assistant, Lambda has confided to you that all the access codes are \"lucky triples\" in order to make it easier to find them in the lists. A \"lucky triple\" is a tuple (x, y, z) where x divides y and y divides z, such as (1, 2, 4). With that information, you can figure out which list contains the number of access codes that matches the number of locks on the door when you're ready to go in (for example, if there's 5 passcodes, you'd need to find a list with 5 \"lucky triple\" access codes).\n",
    "\n",
    "Write a function solution(l) that takes a list of positive integers l and counts the number of \"lucky triples\" of (li, lj, lk) where the list indices meet the requirement i < j < k.  The length of l is between 2 and 2000 inclusive.  The elements of l are between 1 and 999999 inclusive.  The solution fits within a signed 32-bit integer. Some of the lists are purposely generated without any access codes to throw off spies, so if no triples are found, return 0. \n",
    "\n",
    "For example, [1, 2, 3, 4, 5, 6] has the triples: [1, 2, 4], [1, 2, 6], [1, 3, 6], making the solution 3 total.\n",
    "\n",
    "\n",
    "#### Test cases\n",
    "\n",
    "-- Python cases --\n",
    "\n",
    "Input: `solution.solution([1, 2, 3, 4, 5, 6])`\n",
    "\n",
    "Output: `3`\n",
    "\n",
    "Input: `solution.solution([1, 1, 1])`\n",
    "\n",
    "Output: `1`"
   ]
  },
  {
   "cell_type": "code",
   "execution_count": 10,
   "id": "d49369b8",
   "metadata": {},
   "outputs": [
    {
     "name": "stdout",
     "output_type": "stream",
     "text": [
      "6\n"
     ]
    }
   ],
   "source": [
    "from itertools import combinations\n",
    "\n",
    "def fdiv(l):\n",
    "    return ((l[1] % l[0] == 0) and (l[2] % l[1] == 0))\n",
    "    \n",
    "def solution(l):\n",
    "    ## this version passes the given tests, but fails all hidden tests:\n",
    "    #res = filter(fdiv, combinations(l, 3))\n",
    "    #return len(res)\n",
    "\n",
    "    ## as does this:\n",
    "    #return sum(1 for v in combinations(l, 3) if v[1] % v[0] == 0 and v[2] % v[1] == 0)\n",
    "\n",
    "    ## this one works, from alexpdev on SO:\n",
    "    ## If you do nested iteration of the full list and remaining list, then compare the two \n",
    "    ## items to check if they are divisors... the result counts as the beginning and middle \n",
    "    ## numbers of a 'triple', then on the second round it will calculate the third... All \n",
    "    ## you need to do is track which ones pass the divisor test along the way.\n",
    "    row1, row2 = [[0] * len(l) for i in range(2)]  # Tracks which indices pass modulus\n",
    "    for i1, first in enumerate(l):  \n",
    "        for i2 in range(i1+1, len(l)):  # iterate the remaining portion of the list\n",
    "            middle = l[i2]\n",
    "            if not middle % first:  # check for matches\n",
    "                row1[i2] += 1     # increment the index in the tracker lists..\n",
    "                row2[i1] += 1     # for each matching pair\n",
    "    \n",
    "    # the final answer will be the sum of the products for each pair of values.\n",
    "    result = sum([row1[i] * row2[i] for i in range(len(l))])  \n",
    "    return result\n",
    "\n",
    "#print(solution([1, 2, 3, 4, 5, 6]))\n",
    "print(solution([1, 2, 3, 4, 5, 6, 7, 8]))\n",
    "#print(solution([2, 3, 5]))\n",
    "#print(solution([1, 1, 1]))"
   ]
  },
  {
   "cell_type": "markdown",
   "id": "60ab4023",
   "metadata": {},
   "source": [
    "### Level 4 (1/2)\n",
    "\n",
    "You need to free the bunny workers before Commander Lambda's space station explodes! Unfortunately, the Commander was very careful with the highest-value workers -- they all work in separate, maximum-security work rooms. The rooms are opened by putting keys into each console, then pressing the open button on each console simultaneously. When the open button is pressed, each key opens its corresponding lock on the work room. So, the union of the keys in all of the consoles must be all of the keys. The scheme may require multiple copies of one key given to different minions.\n",
    "\n",
    "The consoles are far enough apart that a separate minion is needed for each one. Fortunately, you have already relieved some bunnies to aid you - and even better, you were able to steal the keys while you were working as Commander Lambda's assistant. The problem is, you don't know which keys to use at which consoles. The consoles are programmed to know which keys each minion had, to prevent someone from just stealing all of the keys and using them blindly. There are signs by the consoles saying how many minions had some keys for the set of consoles. You suspect that Commander Lambda has a systematic way to decide which keys to give to each minion such that they could use the consoles.\n",
    "\n",
    "You need to figure out the scheme that Commander Lambda used to distribute the keys. You know how many minions had keys, and how many consoles are by each work room.  You know that Command Lambda wouldn't issue more keys than necessary (beyond what the key distribution scheme requires), and that you need as many bunnies with keys as there are consoles to open the work room.\n",
    "\n",
    "Given the number of bunnies available and the number of locks required to open a work room, write a function solution(num_buns, num_required) which returns a specification of how to distribute the keys such that any num_required bunnies can open the locks, but no group of (num_required - 1) bunnies can.\n",
    "\n",
    "Each lock is numbered starting from 0. The keys are numbered the same as the lock they open (so for a duplicate key, the number will repeat, since it opens the same lock). For a given bunny, the keys they get is represented as a sorted list of the numbers for the keys. To cover all of the bunnies, the final solution is represented by a sorted list of each individual bunny's list of keys.  Find the lexicographically least such key distribution - that is, the first bunny should have keys sequentially starting from 0.\n",
    "\n",
    "num_buns will always be between 1 and 9, and num_required will always be between 0 and 9 (both inclusive).  For example, if you had 3 bunnies and required only 1 of them to open the cell, you would give each bunny the same key such that any of the 3 of them would be able to open it, like so:\n",
    "[\n",
    "  [0],\n",
    "  [0],\n",
    "  [0],\n",
    "]\n",
    "If you had 2 bunnies and required both of them to open the cell, they would receive different keys (otherwise they wouldn't both actually be required), and your solution would be as follows:\n",
    "[\n",
    "  [0],\n",
    "  [1],\n",
    "]\n",
    "Finally, if you had 3 bunnies and required 2 of them to open the cell, then any 2 of the 3 bunnies should have all of the keys necessary to open the cell, but no single bunny would be able to do it.  Thus, the solution would be:\n",
    "[\n",
    "  [0, 1],\n",
    "  [0, 2],\n",
    "  [1, 2],\n",
    "]\n",
    "\n",
    "\n",
    "#### Test cases\n",
    "Your code should pass the following test cases.\n",
    "Note that it may also be run against hidden test cases not shown here.\n",
    "\n",
    "-- Python cases --\n",
    "\n",
    "Input: `solution.solution(2, 1)`\n",
    "\n",
    "Output: `[[0], [0]]`\n",
    "\n",
    "Input: `solution.solution(4, 4)`\n",
    "\n",
    "Output: `[[0], [1], [2], [3]]`\n",
    "\n",
    "Input: `solution.solution(5, 3)`\n",
    "\n",
    "Output: `[[0, 1, 2, 3, 4, 5], [0, 1, 2, 6, 7, 8], [0, 3, 4, 6, 7, 9], [1, 3, 5, 6, 8, 9], [2, 4, 5, 7, 8, 9]]`\n"
   ]
  },
  {
   "cell_type": "code",
   "execution_count": 11,
   "id": "a619b295",
   "metadata": {},
   "outputs": [
    {
     "name": "stdout",
     "output_type": "stream",
     "text": [
      "in progress\n",
      "in progress\n",
      "in progress\n"
     ]
    }
   ],
   "source": [
    "def solution(num_buns, num_required):\n",
    "    return('in progress')\n",
    "\n",
    "print(solution(2, 1))\n",
    "#print(solution(4, 4))\n",
    "#print(solution(5, 3))"
   ]
  }
 ],
 "metadata": {
  "kernelspec": {
   "display_name": "Python 2",
   "language": "python",
   "name": "python2"
  },
  "language_info": {
   "codemirror_mode": {
    "name": "ipython",
    "version": 2
   },
   "file_extension": ".py",
   "mimetype": "text/x-python",
   "name": "python",
   "nbconvert_exporter": "python",
   "pygments_lexer": "ipython2",
   "version": "2.7.18"
  }
 },
 "nbformat": 4,
 "nbformat_minor": 5
}
